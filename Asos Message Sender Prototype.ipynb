{
 "cells": [
  {
   "cell_type": "code",
   "execution_count": null,
   "metadata": {},
   "outputs": [],
   "source": [
    "import redcap\n",
    "import pandas as pd\n",
    "from temba_client.v2 import TembaClient\n",
    "from temba_client.exceptions import TembaRateExceededError, TembaTokenError, TembaHttpError, TembaNoSuchObjectError\n",
    "import math\n",
    "import numpy as np\n",
    "import json\n",
    "from support_functions import * "
   ]
  },
  {
   "cell_type": "markdown",
   "metadata": {},
   "source": [
    "Define classes to contain the different methods that will be used"
   ]
  },
  {
   "cell_type": "code",
   "execution_count": null,
   "metadata": {},
   "outputs": [],
   "source": [
    "redcap = RedCap()\n",
    "rapidpro = rapidPro()"
   ]
  },
  {
   "cell_type": "code",
   "execution_count": null,
   "metadata": {},
   "outputs": [],
   "source": [
    "missing = []\n",
    "form_names = []\n",
    "for form in form_names:\n",
    "    missing_temp = []\n",
    "    redcap.read_redcap_credentials_file(credential_file = 'redcapcredentials.json',form = form)\n",
    "    rapidpro.read_rapidpro_credentials_file(credential_file = 'rapidprocredentials.json')\n",
    "    data_records = redcap.get_records()\n",
    "    data_records_flat = redcap.get_records_flat()\n",
    "    data_metadata = redcap.get_metadata()\n",
    "    expected = redcap.get_expected_fields()\n",
    "    completed = redcap.get_completed_fields()\n",
    "    missing_temp = redcap.get_missing_fields()\n",
    "    missing.append(missing_temp)\n"
   ]
  },
  {
   "cell_type": "markdown",
   "metadata": {},
   "source": [
    "Get the record data and metadata"
   ]
  },
  {
   "cell_type": "code",
   "execution_count": null,
   "metadata": {},
   "outputs": [],
   "source": [
    "missing_fields = pd.DataFrame.from_dict(missing).T\n",
    "missing_fields.columns = form_names"
   ]
  },
  {
   "cell_type": "markdown",
   "metadata": {},
   "source": [
    "Next we need to parse the phone number from the Redcap database and check it works -- it needs to be converted into the correct format for the message sender"
   ]
  },
  {
   "cell_type": "code",
   "execution_count": null,
   "metadata": {},
   "outputs": [],
   "source": [
    "import phonenumbers\n",
    "import types\n",
    "\n",
    "for index,row in data_records_flat.iterrows():\n",
    "    wa_number = row['whatsapp_number']\n",
    "    print(wa_number)\n",
    "    try:\n",
    "        f_wa_number = phonenumbers.parse(wa_number, None)\n",
    "        phone_number = ('tel:'+phonenumbers.format_number(f_wa_number,\n",
    "                                                          phonenumbers.PhoneNumberFormat.E164))\n",
    "        print(phone_number)\n",
    "        contacts = rapidpro.client.get_contacts(urn = phone_number)\n",
    "        #if the contact exists then make sure it is in the correct group\n",
    "        if contacts.first() is None:\n",
    "            print('contact doesnt exist- creating')\n",
    "            rapidpro.client.create_contact(urns = [phone_number])\n",
    "            rapidpro.add_contact_to_groups(phone_number,'asos-investigators')\n",
    "        else:\n",
    "            print('contact already exists- just updating')\n",
    "            rapidpro.add_contact_to_groups(phone_number,'asos-investigators')\n",
    "        number_missing_fields = len(missing[index])\n",
    "        print(number_missing_fields)\n",
    "        name = row['name']\n",
    "        if(number_missing_fields > 0):\n",
    "            string = 'Thanks {name} for helping us by registering for the ASOS-2 trial. We have noticed that there are {missing_vals} missing fields in your latest survey. Would you mind completing the registration when you are able? Thanks!'.format(missing_vals=number_missing_fields,name=name)\n",
    "        else:\n",
    "            string = 'Thanks {name} for helping us by registering for the ASOS-2 trial. You have completed the latest survey. Thanks!'.format(form_name = redcap.form,name=name)\n",
    "\n",
    "        print(string)\n",
    "        message_dict = {'wa_message' : string }\n",
    "        rapidpro.add_fields_to_contact(phone_number,message_dict)\n",
    "        rapidpro.start_flow(phone_number)\n",
    "    except:\n",
    "        print('failed')\n",
    "        print(wa_number)"
   ]
  },
  {
   "cell_type": "code",
   "execution_count": null,
   "metadata": {},
   "outputs": [],
   "source": [
    "payload_records = {\n",
    "        'token': redcap.redcap_token,\n",
    "        'content': 'record',\n",
    "        'format': 'json',\n",
    "        'type': 'flat',\n",
    "        'rawOrLabel': 'Label',\n",
    "        'rawOrLabelHeaders': 'Label',\n",
    "        'exportCheckboxLabel': 'false',\n",
    "        'exportSurveyFields': 'true',\n",
    "        'exportDataAccessGroups': 'false',\n",
    "        'returnFormat': 'json',\n",
    "        'forms': redcap.form\n",
    "    }\n",
    "\n",
    "data_records = post(redcap.redcap_url, data=payload_records)"
   ]
  },
  {
   "cell_type": "code",
   "execution_count": null,
   "metadata": {},
   "outputs": [],
   "source": [
    "records_df = pd.DataFrame.from_dict(data_records.json())"
   ]
  },
  {
   "cell_type": "code",
   "execution_count": null,
   "metadata": {},
   "outputs": [],
   "source": [
    "records_df"
   ]
  },
  {
   "cell_type": "markdown",
   "metadata": {},
   "source": [
    "Here we update all the contacts as necessary"
   ]
  }
 ],
 "metadata": {
  "hide_input": false,
  "kernelspec": {
   "display_name": "Python 3",
   "language": "python",
   "name": "python3"
  },
  "language_info": {
   "codemirror_mode": {
    "name": "ipython",
    "version": 3
   },
   "file_extension": ".py",
   "mimetype": "text/x-python",
   "name": "python",
   "nbconvert_exporter": "python",
   "pygments_lexer": "ipython3",
   "version": "3.6.4"
  }
 },
 "nbformat": 4,
 "nbformat_minor": 2
}
