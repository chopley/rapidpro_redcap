{
 "cells": [
  {
   "cell_type": "code",
   "execution_count": null,
   "metadata": {},
   "outputs": [],
   "source": [
    "import redcap\n",
    "import pandas as pd\n",
    "from temba_client.v2 import TembaClient\n",
    "from temba_client.exceptions import TembaRateExceededError, TembaTokenError, TembaHttpError, TembaNoSuchObjectError\n",
    "import math\n",
    "import numpy as np\n",
    "import json\n",
    "from support_functions import * \n",
    "#from temba_client.values.constants import Value\n"
   ]
  },
  {
   "cell_type": "code",
   "execution_count": null,
   "metadata": {
    "code_folding": []
   },
   "outputs": [],
   "source": [
    "def upload_contacts(redcap,\n",
    "                    rapidpro,\n",
    "                    datafield, \n",
    "                    msisdn_field_name,\n",
    "                    data_fields):\n",
    "    import phonenumbers\n",
    "    import types\n",
    "    for index,row in data_records_flat.iterrows():\n",
    "        wa_number = row[msisdn_field_name]\n",
    "        contact_name = row['name'] + ' ' + row['surname']\n",
    "        print(wa_number)\n",
    "        print(contact_name)\n",
    "        try:\n",
    "            f_wa_number = phonenumbers.parse(wa_number, None)\n",
    "            phone_number = ('tel:'+phonenumbers.format_number(f_wa_number,\n",
    "                                                              phonenumbers.PhoneNumberFormat.E164))\n",
    "            print(phone_number)\n",
    "            contacts = rapidpro.client.get_contacts(urn = phone_number)\n",
    "            #if the contact exists then make sure it is in the correct group\n",
    "            if contacts.first() is None:\n",
    "                print('contact doesnt exist- creating')\n",
    "                rapidpro.client.create_contact(urns = [phone_number], name = contact_name )\n",
    "                rapidpro.add_contact_to_groups(phone_number,'asos-investigators')\n",
    "                rapidpro.add_fields_to_contact(phone_number, data_fields)\n",
    "            else:\n",
    "                print('contact already exists- just updating')\n",
    "                rapidpro.client.update_contact(phone_number, name = contact_name)\n",
    "                rapidpro.add_fields_to_contact(phone_number, data_fields)\n",
    "        except:\n",
    "            print('failed')\n",
    "            print(wa_number)"
   ]
  },
  {
   "cell_type": "markdown",
   "metadata": {},
   "source": [
    "Define classes to contain the different methods that will be used"
   ]
  },
  {
   "cell_type": "code",
   "execution_count": null,
   "metadata": {},
   "outputs": [],
   "source": [
    "redcap = RedCap()\n",
    "rapidpro = rapidPro()"
   ]
  },
  {
   "cell_type": "markdown",
   "metadata": {},
   "source": [
    "Here we can give the names of specific forms and get the missing fields from those"
   ]
  },
  {
   "cell_type": "code",
   "execution_count": null,
   "metadata": {},
   "outputs": [],
   "source": [
    "missing = []\n",
    "form_names = ['asos2_investigator_phase1','asos2_investigator_phase2']\n",
    "ignore_fields = ['']\n",
    "for form in form_names:\n",
    "    missing_temp = []\n",
    "    redcap.read_redcap_credentials_file(credential_file = 'redcapcredentials_ASOS2_Investigator_Registration.json',\n",
    "                                        form = form,\n",
    "                                       ignore_fields = ignore_fields)\n",
    "    data_records = redcap.get_records()\n",
    "    data_records_flat = redcap.get_records_flat()\n",
    "    data_metadata = redcap.get_metadata()\n",
    "    expected = redcap.get_expected_fields()\n",
    "    completed = redcap.get_completed_fields()\n",
    "    missing_temp = redcap.get_missing_fields()\n",
    "    missing.append(missing_temp)\n"
   ]
  },
  {
   "cell_type": "markdown",
   "metadata": {},
   "source": [
    "Get the record data and metadata"
   ]
  },
  {
   "cell_type": "code",
   "execution_count": null,
   "metadata": {},
   "outputs": [],
   "source": [
    "missing_fields = pd.DataFrame.from_dict(missing).T\n",
    "missing_fields.columns = form_names"
   ]
  },
  {
   "cell_type": "code",
   "execution_count": null,
   "metadata": {
    "code_folding": []
   },
   "outputs": [],
   "source": [
    "credential_files = ['redcapcredentials_ASOS2_Investigator_Registration_French.json','redcapcredentials_ASOS2_Investigator_Registration.json']\n",
    "\n",
    "for redcap_project_credentials in credential_files:\n",
    "    redcap.read_redcap_credentials_file(credential_file = redcap_project_credentials,\n",
    "                                    form = form,\n",
    "                                   ignore_fields = [''])\n",
    "    rapidpro.read_rapidpro_credentials_file(credential_file = 'rapidprocredentials.json')\n",
    "    data_records = redcap.get_records()\n",
    "    data_records_flat = redcap.get_records_flat()\n",
    "    data_metadata = redcap.get_metadata()\n",
    "    data_fields = {'project_name' : redcap_project_credentials.replace('.json','')}\n",
    "    upload_contacts(redcap,rapidpro,data_records_flat,'whatsapp_number',data_fields)"
   ]
  },
  {
   "cell_type": "markdown",
   "metadata": {},
   "source": [
    "Next we need to parse the phone number from the Redcap database and check it works -- it needs to be converted into the correct format for the message sender"
   ]
  },
  {
   "cell_type": "markdown",
   "metadata": {},
   "source": [
    "Here we update all the contacts as necessary"
   ]
  }
 ],
 "metadata": {
  "hide_input": false,
  "kernelspec": {
   "display_name": "Python 3",
   "language": "python",
   "name": "python3"
  },
  "language_info": {
   "codemirror_mode": {
    "name": "ipython",
    "version": 3
   },
   "file_extension": ".py",
   "mimetype": "text/x-python",
   "name": "python",
   "nbconvert_exporter": "python",
   "pygments_lexer": "ipython3",
   "version": "3.6.4"
  }
 },
 "nbformat": 4,
 "nbformat_minor": 2
}
